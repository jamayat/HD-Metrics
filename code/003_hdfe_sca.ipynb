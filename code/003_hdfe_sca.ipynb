{
 "cells": [
  {
   "cell_type": "markdown",
   "metadata": {},
   "source": [
    "# Motivation"
   ]
  },
  {
   "cell_type": "code",
   "execution_count": 1,
   "metadata": {},
   "outputs": [],
   "source": [
    "%%capture\n",
    "import stata_setup, os\n",
    "if os.name == 'nt':\n",
    "    stata_setup.config('C:/Program Files/Stata17/','mp')\n",
    "else:\n",
    "    stata_setup.config('/usr/local/stata17','mp')"
   ]
  },
  {
   "cell_type": "code",
   "execution_count": 2,
   "metadata": {},
   "outputs": [],
   "source": [
    "from sfi import Data\n",
    "from pystata import stata\n",
    "import numpy as np\n",
    "import pandas as pd"
   ]
  },
  {
   "cell_type": "code",
   "execution_count": 3,
   "metadata": {},
   "outputs": [
    {
     "name": "stdout",
     "output_type": "stream",
     "text": [
      "\n"
     ]
    }
   ],
   "source": [
    "%%stata -qui\n",
    "\n",
    "use \"../data/data\", clear\n",
    "rename log_flesch_kincaid_grade_level FKG\n",
    "quietly tabulate year, generate(y_)\n",
    "quietly tabulate cluster, generate(c_)\n",
    "\n",
    "local journals ecm jpe qje res  //AER based category\n",
    "\n",
    "local jel_imp a_imp b_imp c_imp  e_imp f_imp g_imp h_imp i_imp j_imp k_imp ///\n",
    "              l_imp m_imp n_imp o_imp p_imp q_imp r_imp y_imp z_imp // D JEL based case"
   ]
  },
  {
   "cell_type": "code",
   "execution_count": 4,
   "metadata": {},
   "outputs": [],
   "source": [
    "%%capture captured_output\n",
    "stata.run('''\n",
    "          display \"`journals'\"\n",
    "          ''')"
   ]
  },
  {
   "cell_type": "code",
   "execution_count": 5,
   "metadata": {},
   "outputs": [
    {
     "name": "stdout",
     "output_type": "stream",
     "text": [
      "      ecm  jpe  qje  res\n",
      "4707    0    0    0    1\n",
      "3807    0    0    1    0\n",
      "4579    0    0    0    1\n",
      "4551    0    0    0    1\n",
      "101     0    0    0    0\n",
      "4817    0    0    0    1\n",
      "4932    0    0    0    1\n",
      "700     0    0    0    0\n",
      "2711    0    1    0    0\n",
      "3349    0    0    1    0\n"
     ]
    }
   ],
   "source": [
    "output = captured_output.stdout\n",
    "lines = output.splitlines()\n",
    "journals_output = lines[-4].strip()\n",
    "journals = stata.pdataframe_from_data(var=journals_output)\n",
    "print(journals.sample(n=10, random_state=542))\n"
   ]
  },
  {
   "cell_type": "code",
   "execution_count": 6,
   "metadata": {},
   "outputs": [
    {
     "name": "stdout",
     "output_type": "stream",
     "text": [
      "      a_imp  b_imp  c_imp  e_imp  f_imp  g_imp  h_imp  i_imp  j_imp  k_imp  \\\n",
      "4707      0      0      0      0      0      0      0      0      1      0   \n",
      "3807      0      0      0      0      0      1      0      0      0      0   \n",
      "4579      0      0      0      0      0      0      0      0      1      1   \n",
      "4551      0      0      1      0      0      0      0      0      0      0   \n",
      "101       0      0      0      0      0      0      1      0      0      0   \n",
      "4817      0      0      1      1      0      0      0      0      0      0   \n",
      "4932      0      0      0      0      0      0      0      0      1      0   \n",
      "700       0      0      0      0      0      0      0      0      0      1   \n",
      "2711      0      0      0      0      0      0      0      1      1      0   \n",
      "3349      0      0      1      0      0      0      0      0      0      0   \n",
      "\n",
      "      l_imp  m_imp  n_imp  o_imp  p_imp  q_imp  r_imp  y_imp  z_imp  \n",
      "4707      0      0      0      0      0      0      0      0      0  \n",
      "3807      0      0      0      0      0      0      0      0      0  \n",
      "4579      0      0      0      0      0      0      0      0      0  \n",
      "4551      0      0      0      0      0      0      0      0      0  \n",
      "101       0      0      0      1      0      0      0      0      0  \n",
      "4817      0      0      0      0      0      0      0      0      0  \n",
      "4932      0      0      1      0      0      0      0      0      1  \n",
      "700       1      0      0      0      0      0      0      0      0  \n",
      "2711      0      0      0      1      0      0      0      0      1  \n",
      "3349      0      0      0      0      0      0      0      0      0  \n"
     ]
    }
   ],
   "source": [
    "jel_imp = stata.pdataframe_from_data(var=\"a_imp b_imp c_imp  e_imp f_imp g_imp h_imp i_imp j_imp k_imp l_imp m_imp n_imp o_imp p_imp q_imp r_imp y_imp z_imp\")\n",
    "print(jel_imp.sample(n=10, random_state=542))"
   ]
  },
  {
   "cell_type": "code",
   "execution_count": 7,
   "metadata": {},
   "outputs": [],
   "source": [
    "%%capture captured_output\n",
    "stata.run('ds y_2-y_20')"
   ]
  },
  {
   "cell_type": "code",
   "execution_count": 8,
   "metadata": {
    "scrolled": true
   },
   "outputs": [
    {
     "name": "stdout",
     "output_type": "stream",
     "text": [
      "      y_2  y_4  y_6  y_8  y_10  y_12  y_14  y_16  y_18  y_20  y_3  y_5  y_7  \\\n",
      "4707    0    0    0    0     0     0     0     1     0     0    0    0    0   \n",
      "3807    0    0    0    0     0     0     0     0     0     0    0    0    0   \n",
      "4579    0    0    0    0     0     0     0     0     0     0    0    0    0   \n",
      "4551    0    0    0    0     0     0     0     0     0     0    0    0    0   \n",
      "101     0    0    0    0     0     0     0     0     0     0    1    0    0   \n",
      "4817    0    0    0    0     0     0     0     0     1     0    0    0    0   \n",
      "4932    0    0    0    0     0     0     0     0     0     1    0    0    0   \n",
      "700     0    0    0    0     0     1     0     0     0     0    0    0    0   \n",
      "2711    0    0    0    1     0     0     0     0     0     0    0    0    0   \n",
      "3349    0    1    0    0     0     0     0     0     0     0    0    0    0   \n",
      "\n",
      "      y_9  y_11  y_13  y_15  y_17  y_19  \n",
      "4707    0     0     0     0     0     0  \n",
      "3807    0     0     0     1     0     0  \n",
      "4579    0     0     1     0     0     0  \n",
      "4551    0     0     1     0     0     0  \n",
      "101     0     0     0     0     0     0  \n",
      "4817    0     0     0     0     0     0  \n",
      "4932    0     0     0     0     0     0  \n",
      "700     0     0     0     0     0     0  \n",
      "2711    0     0     0     0     0     0  \n",
      "3349    0     0     0     0     0     0  \n"
     ]
    }
   ],
   "source": [
    "output = captured_output.stdout\n",
    "year_output = output.strip()\n",
    "year = stata.pdataframe_from_data(var=year_output)\n",
    "print(year.sample(n=10, random_state=542))"
   ]
  },
  {
   "cell_type": "code",
   "execution_count": 9,
   "metadata": {},
   "outputs": [],
   "source": [
    "%%capture captured_output\n",
    "stata.run('ds c_2-c_215')"
   ]
  },
  {
   "cell_type": "code",
   "execution_count": 10,
   "metadata": {},
   "outputs": [
    {
     "name": "stdout",
     "output_type": "stream",
     "text": [
      "      c_2  c_22  c_42  c_62  c_82  c_102  c_122  c_142  c_162  c_182  ...  \\\n",
      "4707    1     0     0     0     0      0      0      0      0      0  ...   \n",
      "3807    1     0     0     0     0      0      0      0      0      0  ...   \n",
      "4579    1     0     0     0     0      0      0      0      0      0  ...   \n",
      "4551    0     0     0     0     0      0      0      0      0      0  ...   \n",
      "101     1     0     0     0     0      0      0      0      0      0  ...   \n",
      "4817    1     0     0     0     0      0      0      0      0      0  ...   \n",
      "4932    0     0     0     0     0      0      0      0      0      0  ...   \n",
      "700     1     0     0     0     0      0      0      0      0      0  ...   \n",
      "2711    1     0     0     0     0      0      0      0      0      0  ...   \n",
      "3349    1     0     0     0     0      0      0      0      0      0  ...   \n",
      "\n",
      "      c_21  c_41  c_61  c_81  c_101  c_121  c_141  c_161  c_181  c_201  \n",
      "4707     0     0     0     0      0      0      0      0      0      0  \n",
      "3807     0     0     0     0      0      0      0      0      0      0  \n",
      "4579     0     0     0     0      0      0      0      0      0      0  \n",
      "4551     0     0     0     1      0      0      0      0      0      0  \n",
      "101      0     0     0     0      0      0      0      0      0      0  \n",
      "4817     0     0     0     0      0      0      0      0      0      0  \n",
      "4932     0     0     0     0      0      0      0      0      0      0  \n",
      "700      0     0     0     0      0      0      0      0      0      0  \n",
      "2711     0     0     0     0      0      0      0      0      0      0  \n",
      "3349     0     0     0     0      0      0      0      0      0      0  \n",
      "\n",
      "[10 rows x 214 columns]\n"
     ]
    }
   ],
   "source": [
    "output = captured_output.stdout\n",
    "cluster_output = output.strip()\n",
    "cluster = stata.pdataframe_from_data(var=cluster_output)\n",
    "print(cluster.sample(n=10, random_state=542))"
   ]
  },
  {
   "cell_type": "code",
   "execution_count": 11,
   "metadata": {},
   "outputs": [
    {
     "name": "stdout",
     "output_type": "stream",
     "text": [
      "      jel_flag\n",
      "4707         1\n",
      "3807         1\n",
      "4579         1\n",
      "4551         0\n",
      "101          1\n",
      "4817         1\n",
      "4932         0\n",
      "700          1\n",
      "2711         0\n",
      "3349         0\n"
     ]
    }
   ],
   "source": [
    "jel_flag = stata.pdataframe_from_data(var=\"jel_flag\")\n",
    "print(jel_flag.sample(n=10, random_state=542))"
   ]
  },
  {
   "cell_type": "markdown",
   "metadata": {},
   "source": [
    "# High-Dimensional Fixed Effects"
   ]
  },
  {
   "cell_type": "code",
   "execution_count": 12,
   "metadata": {},
   "outputs": [
    {
     "name": "stdout",
     "output_type": "stream",
     "text": [
      "\n",
      ". egen journal1 = group(journal)\n",
      "\n",
      ". #delimit ;\n",
      "delimiter now ;\n",
      ". reghdfe FKG log_num_authors log_num_pages both_genders prop_women,\n",
      ">         absorb(journal1 a_imp b_imp c_imp  e_imp f_imp g_imp h_imp\n",
      ">                i_imp j_imp k_imp l_imp m_imp n_imp o_imp p_imp q_imp r_imp y_\n",
      "> imp z_imp\n",
      ">                year ib0.cluster jel_flag) vce(cluster cluster);\n",
      "(dropped 1 singleton observations)\n",
      "(MWFE estimator converged in 9 iterations)\n",
      "\n",
      "HDFE Linear regression                            Number of obs   =      4,987\n",
      "Absorbing 23 HDFE groups                          F(   4,    214) =       5.90\n",
      "Statistics robust to heteroskedasticity           Prob > F        =     0.0002\n",
      "                                                  R-squared       =     0.0921\n",
      "                                                  Adj R-squared   =     0.0421\n",
      "                                                  Within R-sq.    =     0.0019\n",
      "Number of clusters (cluster) =        215         Root MSE        =     0.1642\n",
      "\n",
      "                              (Std. err. adjusted for 215 clusters in cluster)\n",
      "------------------------------------------------------------------------------\n",
      "             |               Robust\n",
      "         FKG | Coefficient  std. err.      t    P>|t|     [95% conf. interval]\n",
      "-------------+----------------------------------------------------------------\n",
      "log_num_au~s |  -.0039738   .0029441    -1.35   0.179     -.009777    .0018294\n",
      "log_num_pa~s |    .019159   .0047953     4.00   0.000      .009707    .0286111\n",
      "both_genders |   .0005981   .0036427     0.16   0.870    -.0065821    .0077782\n",
      "  prop_women |  -.0188933   .0054037    -3.50   0.001    -.0295447   -.0082419\n",
      "       _cons |   2.666831   .0147896   180.32   0.000     2.637679    2.695982\n",
      "------------------------------------------------------------------------------\n",
      "\n",
      "Absorbed degrees of freedom:\n",
      "-----------------------------------------------------+\n",
      " Absorbed FE | Categories  - Redundant  = Num. Coefs |\n",
      "-------------+---------------------------------------|\n",
      "    journal1 |         5           1           4     |\n",
      "       a_imp |         2           1           1     |\n",
      "       b_imp |         2           1           1    ?|\n",
      "       c_imp |         2           1           1    ?|\n",
      "       e_imp |         2           1           1    ?|\n",
      "       f_imp |         2           1           1    ?|\n",
      "       g_imp |         2           1           1    ?|\n",
      "|      h_imp |         2           1           1    ?\n",
      "       i_imp |         2           1           1    ?|\n",
      "       j_imp |         2           1           1    ?|\n",
      "       k_imp |         2           1           1    ?|\n",
      "       l_imp |         2           1           1    ?|\n",
      "       m_imp |         2           1           1    ?|\n",
      "       n_imp |         2           1           1    ?|\n",
      "       o_imp |         2           1           1    ?|\n",
      "       p_imp |         2           1           1    ?|\n",
      "       q_imp |         2           1           1    ?|\n",
      "       r_imp |         2           1           1    ?|\n",
      "       y_imp |         1           1           0    ?|\n",
      "       z_imp |         2           1           1    ?|\n",
      "        year |        20           1          19    ?|\n",
      "     cluster |       215         215           0    *|\n",
      "    jel_flag |         2           1           1    ?|\n",
      "-----------------------------------------------------+\n",
      "? = number of redundant parameters may be higher\n",
      "* = FE nested within cluster; treated as redundant for DoF computation\n",
      "\n",
      ". #delimit cr\n",
      "delimiter now cr\n",
      ". \n"
     ]
    }
   ],
   "source": [
    "%%stata\n",
    "egen journal1 = group(journal)\n",
    "#delimit ;\n",
    "reghdfe FKG log_num_authors log_num_pages both_genders prop_women,\n",
    "        absorb(journal1 a_imp b_imp c_imp  e_imp f_imp g_imp h_imp\n",
    "               i_imp j_imp k_imp l_imp m_imp n_imp o_imp p_imp q_imp r_imp y_imp z_imp\n",
    "               year ib0.cluster jel_flag) vce(cluster cluster);\n",
    "#delimit cr"
   ]
  },
  {
   "cell_type": "markdown",
   "metadata": {},
   "source": [
    "# Specification Curve Analysis"
   ]
  },
  {
   "cell_type": "markdown",
   "metadata": {},
   "source": [
    "Clearing the data set in memory, reloading, and creating the ```journal1``` variable"
   ]
  },
  {
   "cell_type": "code",
   "execution_count": 13,
   "metadata": {},
   "outputs": [
    {
     "name": "stdout",
     "output_type": "stream",
     "text": [
      "\n"
     ]
    }
   ],
   "source": [
    "%%stata -qui\n",
    "\n",
    "clear all\n",
    "use \"../data/data\", clear\n",
    "egen journal1 = group(journal)"
   ]
  },
  {
   "cell_type": "markdown",
   "metadata": {},
   "source": [
    "Modigying the ```.yml``` file by uncommenting the output variable ```log_flesch_kincaid_grade_level```:"
   ]
  },
  {
   "cell_type": "code",
   "execution_count": 1,
   "metadata": {},
   "outputs": [
    {
     "name": "stdout",
     "output_type": "stream",
     "text": [
      "Line uncommented successfully if it was commented!\n"
     ]
    }
   ],
   "source": [
    "import yaml\n",
    "\n",
    "# File name\n",
    "file_path = '../code/readability_graph_specurve.yml'\n",
    "\n",
    "# Read, modify, and save the file\n",
    "with open(file_path, 'r') as file:\n",
    "    lines = file.readlines()\n",
    "\n",
    "# Modify the target line\n",
    "modified_lines = []\n",
    "for line in lines:\n",
    "    stripped_line = line.strip()\n",
    "    if stripped_line.startswith(\"#     - ln(Dale chall): log_dale_chall\"):\n",
    "        # Uncomment the line\n",
    "        modified_lines.append(line.replace(\"#     -\", \"-\"))  # Replace `#-` with `-`\n",
    "    else:\n",
    "        modified_lines.append(line)\n",
    "\n",
    "# Write the modified content back to the file\n",
    "with open(file_path, 'w') as file:\n",
    "    file.writelines(modified_lines)\n",
    "\n",
    "print(\"Line uncommented successfully if it was commented!\")"
   ]
  },
  {
   "cell_type": "markdown",
   "metadata": {},
   "source": [
    "Modifying the ```.yml``` file by uncommenting the regressor ```prop_women```:"
   ]
  },
  {
   "cell_type": "code",
   "execution_count": 2,
   "metadata": {},
   "outputs": [
    {
     "name": "stdout",
     "output_type": "stream",
     "text": [
      "Line uncommented successfully if it was commented!\n"
     ]
    }
   ],
   "source": [
    "# File name\n",
    "file_path = '../code/readability_graph_specurve.yml'\n",
    "\n",
    "# Read, modify, and save the file\n",
    "with open(file_path, 'r') as file:\n",
    "    lines = file.readlines()\n",
    "\n",
    "# Modify the target line\n",
    "modified_lines = []\n",
    "for line in lines:\n",
    "    stripped_line = line.strip()\n",
    "    if stripped_line.startswith(\"#     - Proportion of women: prop_women\"):\n",
    "        # Uncomment the line\n",
    "        modified_lines.append(line.replace(\"#     -\", \"-\"))  # Replace `#-` with `-`\n",
    "    else:\n",
    "        modified_lines.append(line)\n",
    "\n",
    "# Write the modified content back to the file\n",
    "with open(file_path, 'w') as file:\n",
    "    file.writelines(modified_lines)\n",
    "\n",
    "print(\"Line uncommented successfully if it was commented!\")"
   ]
  },
  {
   "cell_type": "markdown",
   "metadata": {},
   "source": [
    "Creating the specification curve by concentratng on the effect of ```prop_women``` on the outcome variable ```log_flesch_kincaid_grade_level```, by always controlling for the following regressors: ```both_genders```, ```log_num_authors```, ```log_num_pages```, and ```jel_flag```."
   ]
  },
  {
   "cell_type": "code",
   "execution_count": 3,
   "metadata": {},
   "outputs": [
    {
     "name": "stderr",
     "output_type": "stream",
     "text": [
      "UsageError: Cell magic `%%stata` not found.\n"
     ]
    }
   ],
   "source": [
    "%%stata\n",
    "#delimit ;\n",
    "quietly specurve using \"readability_graph_specurve.yml\",\n",
    "        desc noci99 width(8) height(10) relativesize(0.4)\n",
    "        scale(0.7) title(\"Specification Curve Analsyis of Proportion of Women\");\n",
    "#delimit crs"
   ]
  },
  {
   "cell_type": "code",
   "execution_count": null,
   "metadata": {},
   "outputs": [],
   "source": []
  }
 ],
 "metadata": {
  "kernelspec": {
   "display_name": "Python 3 (ipykernel)",
   "language": "python",
   "name": "python3"
  },
  "language_info": {
   "codemirror_mode": {
    "name": "ipython",
    "version": 3
   },
   "file_extension": ".py",
   "mimetype": "text/x-python",
   "name": "python",
   "nbconvert_exporter": "python",
   "pygments_lexer": "ipython3",
   "version": "3.11.0"
  }
 },
 "nbformat": 4,
 "nbformat_minor": 4
}
